{
 "cells": [
  {
   "cell_type": "markdown",
   "metadata": {},
   "source": [
    "# Machine Learning Class 1\n",
    "\n",
    "Overall, in this class, we covered how to create a variable. The difference between strings (letters, words), integers (int, numbers without a decimal), and float (numbers with a decimal).\n",
    "\n",
    "We also covered how to add an variable to a string - this is .format(name)"
   ]
  },
  {
   "cell_type": "markdown",
   "metadata": {},
   "source": [
    "# Machine Learning Class 2\n",
    "In this class, we learned how to create headings - use ## - and regular text under a markdown cell (like the one I'm using right now). We also learned to bold **bold**.\n",
    "\n",
    "Looks like in mark down, you can also add code by adding ```x = 10```\n",
    "\n",
    "Leearned about TUPLES and LISTS.\n",
    "\n",
    "This was a HUGE class. Need to go through several times."
   ]
  },
  {
   "cell_type": "markdown",
   "metadata": {},
   "source": [
    "# Machine Learning Class 3\n",
    "\n",
    "A lot learned in this class. The big thing was dictionary. Need to study more."
   ]
  },
  {
   "cell_type": "markdown",
   "metadata": {},
   "source": [
    "# Machine Learning Class 4\n",
    "\n",
    "Conditional statements were the big thing that we went over.\n",
    "\n",
    "Elif = else if\n",
    "\n",
    "if\n",
    "\n",
    "elif\n",
    "\n",
    "elif\n",
    "\n",
    "else\n",
    "\n",
    "Quick class. Go through. Easy concepts but need to know them."
   ]
  },
  {
   "cell_type": "markdown",
   "metadata": {},
   "source": [
    "# Machine Learning Class 5\n",
    "\n",
    "This was another brief class. We went over \"sets\" and \"intersections.\" I think I get both."
   ]
  },
  {
   "cell_type": "markdown",
   "metadata": {},
   "source": [
    "# Machine Learning Class 6\n",
    "\n",
    "We learned about looping statements. Few confusing syntaxes. Need to discuss."
   ]
  },
  {
   "cell_type": "markdown",
   "metadata": {},
   "source": [
    "# Notes\n",
    "\n",
    "print(a)\n",
    "set(a)\n",
    "len(a)\n",
    "list(a)\n",
    "tuple(a) - a = \"Ross\", 31, \"United States\"\n",
    "str(a)\n",
    "int(a)\n",
    "sum(a)\n",
    "range(a)\n",
    "range(len(a))\n",
    "a.append()\n",
    "b.insert(0,'String')\n",
    "a.sort()\n",
    "a.clear()\n",
    "a.pop()\n",
    "a.extend(b)\n",
    "del d[0]\n",
    "a.remove()\n",
    "a.reverse()\n",
    "a.keys()\n",
    "a.values()\n",
    "if 'c'.lower() in name:\n",
    "    print(True)\n",
    "a['name']='Ross' - This can create a dictionary without writing it out. Output: {'name':'Ross'}\n",
    "a.title()\n",
    "a.intersect()\n",
    "print(set(a).intersection(set(b)))"
   ]
  }
 ],
 "metadata": {
  "kernelspec": {
   "display_name": "Python 3",
   "language": "python",
   "name": "python3"
  },
  "language_info": {
   "codemirror_mode": {
    "name": "ipython",
    "version": 3
   },
   "file_extension": ".py",
   "mimetype": "text/x-python",
   "name": "python",
   "nbconvert_exporter": "python",
   "pygments_lexer": "ipython3",
   "version": "3.8.3"
  }
 },
 "nbformat": 4,
 "nbformat_minor": 4
}
