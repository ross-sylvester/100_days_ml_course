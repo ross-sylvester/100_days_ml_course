{
 "cells": [
  {
   "cell_type": "markdown",
   "metadata": {},
   "source": [
    "# Machine Learning Class 8\n",
    "\n",
    "Need to understand the complex versions of looping."
   ]
  },
  {
   "cell_type": "code",
   "execution_count": 1,
   "metadata": {},
   "outputs": [],
   "source": [
    "b = [2,3,5,22,500]"
   ]
  },
  {
   "cell_type": "code",
   "execution_count": 7,
   "metadata": {},
   "outputs": [
    {
     "name": "stdout",
     "output_type": "stream",
     "text": [
      "0\n",
      "1\n",
      "2\n",
      "3\n",
      "4\n"
     ]
    }
   ],
   "source": [
    "for i in range(len(b)):\n",
    "    print(i)\n",
    "\n",
    "#The range is printing the index fro"
   ]
  },
  {
   "cell_type": "code",
   "execution_count": 2,
   "metadata": {},
   "outputs": [],
   "source": [
    "for i in range(len(b)):\n",
    "    b[i] = b[i]+5\n",
    "\n",
    "# Not sure at all what this is doing..."
   ]
  },
  {
   "cell_type": "code",
   "execution_count": 3,
   "metadata": {},
   "outputs": [
    {
     "name": "stdout",
     "output_type": "stream",
     "text": [
      "[7, 8, 10]\n",
      "[27, 505]\n"
     ]
    }
   ],
   "source": [
    "for i in range(0,len(b),3):\n",
    "    print(b[i:i+3])\n",
    "    \n",
    "# I get we are slicing the data but can't figure this out."
   ]
  },
  {
   "cell_type": "code",
   "execution_count": 4,
   "metadata": {},
   "outputs": [
    {
     "name": "stdout",
     "output_type": "stream",
     "text": [
      "[7, 8, 10]\n"
     ]
    }
   ],
   "source": [
    "print(b[0:3])\n",
    "#This is printing the range from the first item to the 3rd (but you don't show the third.)"
   ]
  },
  {
   "cell_type": "code",
   "execution_count": 6,
   "metadata": {},
   "outputs": [
    {
     "name": "stdout",
     "output_type": "stream",
     "text": [
      "[7, 8, 10, 27, 505]\n",
      "[7, 8, 10, 27, 505]\n",
      "[7, 8, 10, 27, 505]\n",
      "[7, 8, 10, 27, 505]\n",
      "[7, 8, 10, 27, 505]\n"
     ]
    }
   ],
   "source": [
    "for i in b:\n",
    "    print(b)\n",
    "#Why would you go with print(b) over print (i) here?"
   ]
  },
  {
   "cell_type": "code",
   "execution_count": null,
   "metadata": {},
   "outputs": [],
   "source": []
  }
 ],
 "metadata": {
  "kernelspec": {
   "display_name": "Python 3",
   "language": "python",
   "name": "python3"
  },
  "language_info": {
   "codemirror_mode": {
    "name": "ipython",
    "version": 3
   },
   "file_extension": ".py",
   "mimetype": "text/x-python",
   "name": "python",
   "nbconvert_exporter": "python",
   "pygments_lexer": "ipython3",
   "version": "3.8.3"
  }
 },
 "nbformat": 4,
 "nbformat_minor": 4
}
