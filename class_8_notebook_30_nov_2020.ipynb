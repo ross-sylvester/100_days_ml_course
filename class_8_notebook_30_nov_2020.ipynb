{
 "cells": [
  {
   "cell_type": "markdown",
   "metadata": {},
   "source": [
    "# Machine Learning Class 8\n",
    "\n",
    "Need to understand the complex versions of looping."
   ]
  },
  {
   "cell_type": "code",
   "execution_count": 1,
   "metadata": {},
   "outputs": [],
   "source": [
    "b = [2,3,5,22,500]"
   ]
  },
  {
   "cell_type": "code",
   "execution_count": null,
   "metadata": {},
   "outputs": [],
   "source": [
    "b[0] = b[0]+5"
   ]
  },
  {
   "cell_type": "code",
   "execution_count": 7,
   "metadata": {},
   "outputs": [
    {
     "name": "stdout",
     "output_type": "stream",
     "text": [
      "----\n",
      "2\n",
      "----\n",
      "3\n",
      "----\n",
      "5\n",
      "----\n",
      "22\n",
      "----\n",
      "500\n"
     ]
    }
   ],
   "source": [
    "for i in range(len(b)):\n",
    "    print(\"----\")\n",
    "    print(b[i])\n",
    "#The range is printing the index from 0:5"
   ]
  },
  {
   "cell_type": "code",
   "execution_count": 9,
   "metadata": {},
   "outputs": [
    {
     "name": "stdout",
     "output_type": "stream",
     "text": [
      "before adding\n",
      "7\n",
      "after adding\n",
      "12\n",
      "-----------------\n",
      "before adding\n",
      "8\n",
      "after adding\n",
      "13\n",
      "-----------------\n",
      "before adding\n",
      "10\n",
      "after adding\n",
      "15\n",
      "-----------------\n",
      "before adding\n",
      "27\n",
      "after adding\n",
      "32\n",
      "-----------------\n",
      "before adding\n",
      "505\n",
      "after adding\n",
      "510\n",
      "-----------------\n"
     ]
    }
   ],
   "source": [
    "for i in range(len(b)):\n",
    "    print(\"before adding\")\n",
    "    print(b[i])\n",
    "    b[i] = b[i]+5 \n",
    "    print(\"after adding\")\n",
    "    print(b[i])\n",
    "    print(\"-----------------\")\n",
    "# Not sure at all what this is doing..."
   ]
  },
  {
   "cell_type": "code",
   "execution_count": 13,
   "metadata": {
    "scrolled": false
   },
   "outputs": [
    {
     "name": "stdout",
     "output_type": "stream",
     "text": [
      "[12, 13, 15]\n",
      "[32, 510]\n"
     ]
    }
   ],
   "source": [
    "for i in range(0,len(b),3):\n",
    "    print(b[i:i+3]) \n",
    "#I get we are slicing the data but can't figure this out."
   ]
  },
  {
   "cell_type": "code",
   "execution_count": 23,
   "metadata": {},
   "outputs": [
    {
     "name": "stdout",
     "output_type": "stream",
     "text": [
      "[12, 13]\n",
      "[15, 32]\n",
      "[510]\n"
     ]
    }
   ],
   "source": [
    "for i in range(0,len(b),2):\n",
    "    print(b[i:i+2])"
   ]
  },
  {
   "cell_type": "code",
   "execution_count": 22,
   "metadata": {},
   "outputs": [
    {
     "name": "stdout",
     "output_type": "stream",
     "text": [
      "[12, 13]\n"
     ]
    }
   ],
   "source": [
    "print(b[2:4])\n",
    "#This is printing the range from the first item to the 3rd (but you don't show the third.)"
   ]
  },
  {
   "cell_type": "code",
   "execution_count": 6,
   "metadata": {},
   "outputs": [
    {
     "name": "stdout",
     "output_type": "stream",
     "text": [
      "[7, 8, 10, 27, 505]\n",
      "[7, 8, 10, 27, 505]\n",
      "[7, 8, 10, 27, 505]\n",
      "[7, 8, 10, 27, 505]\n",
      "[7, 8, 10, 27, 505]\n"
     ]
    }
   ],
   "source": [
    "for i in b:\n",
    "    print(b)\n",
    "#Why would you go with print(b) over print (i) here?"
   ]
  },
  {
   "cell_type": "code",
   "execution_count": null,
   "metadata": {},
   "outputs": [],
   "source": []
  }
 ],
 "metadata": {
  "kernelspec": {
   "display_name": "Python 3",
   "language": "python",
   "name": "python3"
  },
  "language_info": {
   "codemirror_mode": {
    "name": "ipython",
    "version": 3
   },
   "file_extension": ".py",
   "mimetype": "text/x-python",
   "name": "python",
   "nbconvert_exporter": "python",
   "pygments_lexer": "ipython3",
   "version": "3.8.3"
  }
 },
 "nbformat": 4,
 "nbformat_minor": 4
}
