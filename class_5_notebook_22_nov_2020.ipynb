{
 "cells": [
  {
   "cell_type": "markdown",
   "metadata": {},
   "source": [
    "# Machine Learning Class 5\n",
    "\n",
    "This was another brief class. We went over \"sets\" and \"intersections.\" I think I get both."
   ]
  },
  {
   "cell_type": "code",
   "execution_count": 16,
   "metadata": {},
   "outputs": [],
   "source": [
    "topic = 'Learning How to Deal with Parents'"
   ]
  },
  {
   "cell_type": "code",
   "execution_count": 17,
   "metadata": {},
   "outputs": [
    {
     "name": "stdout",
     "output_type": "stream",
     "text": [
      "Learning How to Deal with Parents\n"
     ]
    }
   ],
   "source": [
    "print(topic)"
   ]
  },
  {
   "cell_type": "code",
   "execution_count": 18,
   "metadata": {},
   "outputs": [],
   "source": [
    "teachers = [{'name':'Ross','ID':1,'gender':'male','age':31,'language':['English']},\n",
    " {'name':'Ian','ID':2,'gender':'male','age':36,'lanugage':['English','Spanish']},\n",
    " {'name':'Greg','ID':3,'gender':'male','age':65,'lanugage':['English','Manderin']},\n",
    " {'name':'Lisa','ID':4,'gender':'female','age':25,'lanugage':['English']},\n",
    " {'name':'Sarah','ID':5,'gender':'female','age':42,'lanugage':['Spanish']}]"
   ]
  },
  {
   "cell_type": "code",
   "execution_count": 10,
   "metadata": {},
   "outputs": [
    {
     "name": "stdout",
     "output_type": "stream",
     "text": [
      "[{'name': 'Ross', 'ID': 1, 'gender': 'male', 'age': 31, 'language': ['English']}, {'name': 'Ian', 'ID': 2, 'gender': 'male', 'age': 36, 'lanugage': ['English', 'Spanish']}, {'name': 'Greg', 'ID': 3, 'gender': 'male', 'age': 65, 'lanugage': ['English', 'Manderin']}, {'name': 'Lisa', 'ID': 4, 'gender': 'female', 'age': 25, 'lanugage': ['English']}, {'name': 'Sarh', 'ID': 5, 'gender': 'female', 'age': 42, 'lanugage': ['Spanish']}]\n"
     ]
    }
   ],
   "source": [
    "print(teachers)"
   ]
  },
  {
   "cell_type": "code",
   "execution_count": 14,
   "metadata": {},
   "outputs": [],
   "source": [
    "me = {'name':'Chandan','ID':6,'gender':'male','age':33,'language':'English'}"
   ]
  },
  {
   "cell_type": "code",
   "execution_count": 33,
   "metadata": {},
   "outputs": [],
   "source": [
    "friends = [1,3,5]"
   ]
  },
  {
   "cell_type": "code",
   "execution_count": 39,
   "metadata": {},
   "outputs": [],
   "source": [
    "blocked = [2,3,5]"
   ]
  },
  {
   "cell_type": "code",
   "execution_count": 35,
   "metadata": {},
   "outputs": [],
   "source": [
    "teachersdict = {}"
   ]
  },
  {
   "cell_type": "code",
   "execution_count": 36,
   "metadata": {},
   "outputs": [
    {
     "name": "stdout",
     "output_type": "stream",
     "text": [
      "{5}\n"
     ]
    }
   ],
   "source": [
    "print(set(friends).intersection(set(blocked)))\n",
    "\n",
    "# NEEDS WORK!!  What are intersections and what is the \"set\"? Wait. Ok. Set is if only one variable exist.\n",
    "# So in this case, intersection is the set of the intersection of lists. I think I got it."
   ]
  },
  {
   "cell_type": "code",
   "execution_count": 40,
   "metadata": {},
   "outputs": [
    {
     "name": "stdout",
     "output_type": "stream",
     "text": [
      "True\n"
     ]
    }
   ],
   "source": [
    "if 3 in blocked:\n",
    "    print(True)\n",
    "    \n",
    "else:\n",
    "    print(False)"
   ]
  },
  {
   "cell_type": "markdown",
   "metadata": {},
   "source": [
    "# Practice\n",
    "- List\n",
    "- Variables\n",
    "- Conditional Statements (Review)\n",
    "- How to intersect items"
   ]
  },
  {
   "cell_type": "code",
   "execution_count": null,
   "metadata": {},
   "outputs": [],
   "source": []
  }
 ],
 "metadata": {
  "kernelspec": {
   "display_name": "Python 3",
   "language": "python",
   "name": "python3"
  },
  "language_info": {
   "codemirror_mode": {
    "name": "ipython",
    "version": 3
   },
   "file_extension": ".py",
   "mimetype": "text/x-python",
   "name": "python",
   "nbconvert_exporter": "python",
   "pygments_lexer": "ipython3",
   "version": "3.8.3"
  }
 },
 "nbformat": 4,
 "nbformat_minor": 4
}
