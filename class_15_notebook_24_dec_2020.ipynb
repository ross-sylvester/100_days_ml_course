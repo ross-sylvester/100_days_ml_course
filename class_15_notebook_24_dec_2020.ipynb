{
 "cells": [
  {
   "cell_type": "markdown",
   "metadata": {},
   "source": [
    "# Machine Learning Class 15"
   ]
  },
  {
   "cell_type": "markdown",
   "metadata": {},
   "source": [
    "Problem statement: Write a class called \"university\" having functionality \"adding_student\", \"adding_teacher\", \"getting_teacher\", \"getting_student\".\n",
    "\n",
    "Whenever I call \"getting_teacher\" it should print me the entire teacher list. Same for the student.\n",
    "\n",
    "adding_student - add a dictionary to a class list variable teachers list.\n",
    "adding_teacher - add a dictionary to a class list variable student list."
   ]
  },
  {
   "cell_type": "code",
   "execution_count": 41,
   "metadata": {},
   "outputs": [],
   "source": [
    "class University:\n",
    "    teacher_list = []\n",
    "    student_list = []\n",
    "    \n",
    "    def add_teacher(self, name, age, subject):\n",
    "        x = {\"name\": name,\"age\":age,\"subject\":subject}\n",
    "        self.teacher_list.append(x)\n",
    "        return self.teacher_list\n",
    "\n",
    "    def add_student(self, name, age, subject):\n",
    "        y = {\"name\": name,\"age\":age,\"subject\":subject}\n",
    "        self.student_list.append(y)\n",
    "        return self.student_list\n",
    "    \n",
    "    def get_teacher(self):\n",
    "        return self.teacher_list\n",
    "    \n",
    "    def get_student(self):\n",
    "        return self.student_list"
   ]
  },
  {
   "cell_type": "code",
   "execution_count": 42,
   "metadata": {},
   "outputs": [],
   "source": [
    "university = University()"
   ]
  },
  {
   "cell_type": "code",
   "execution_count": 43,
   "metadata": {},
   "outputs": [
    {
     "data": {
      "text/plain": [
       "[{'name': 'Chandan', 'age': 26, 'subject': 'Math'}]"
      ]
     },
     "execution_count": 43,
     "metadata": {},
     "output_type": "execute_result"
    }
   ],
   "source": [
    "university.add_teacher(\"Chandan\",26,\"Math\")"
   ]
  },
  {
   "cell_type": "code",
   "execution_count": 44,
   "metadata": {},
   "outputs": [
    {
     "data": {
      "text/plain": [
       "[{'name': 'Chandan', 'age': 26, 'subject': 'Math'},\n",
       " {'name': 'Ross', 'age': 31, 'subject': 'Science'}]"
      ]
     },
     "execution_count": 44,
     "metadata": {},
     "output_type": "execute_result"
    }
   ],
   "source": [
    "university.add_teacher(\"Ross\",31,\"Science\")"
   ]
  },
  {
   "cell_type": "code",
   "execution_count": 45,
   "metadata": {},
   "outputs": [
    {
     "data": {
      "text/plain": [
       "[{'name': 'Chandan', 'age': 26, 'subject': 'Math'},\n",
       " {'name': 'Ross', 'age': 31, 'subject': 'Science'}]"
      ]
     },
     "execution_count": 45,
     "metadata": {},
     "output_type": "execute_result"
    }
   ],
   "source": [
    "university.get_teacher()"
   ]
  },
  {
   "cell_type": "code",
   "execution_count": 46,
   "metadata": {},
   "outputs": [
    {
     "data": {
      "text/plain": [
       "[]"
      ]
     },
     "execution_count": 46,
     "metadata": {},
     "output_type": "execute_result"
    }
   ],
   "source": [
    "university.get_student()"
   ]
  },
  {
   "cell_type": "code",
   "execution_count": 47,
   "metadata": {},
   "outputs": [
    {
     "data": {
      "text/plain": [
       "[{'name': 'Gregg', 'age': 31, 'subject': 'Physics'}]"
      ]
     },
     "execution_count": 47,
     "metadata": {},
     "output_type": "execute_result"
    }
   ],
   "source": [
    "university.add_student(\"Gregg\",31,\"Physics\")"
   ]
  },
  {
   "cell_type": "code",
   "execution_count": 48,
   "metadata": {},
   "outputs": [
    {
     "data": {
      "text/plain": [
       "[{'name': 'Gregg', 'age': 31, 'subject': 'Physics'}]"
      ]
     },
     "execution_count": 48,
     "metadata": {},
     "output_type": "execute_result"
    }
   ],
   "source": [
    "university.get_student()"
   ]
  },
  {
   "cell_type": "code",
   "execution_count": null,
   "metadata": {},
   "outputs": [],
   "source": []
  }
 ],
 "metadata": {
  "kernelspec": {
   "display_name": "Python 3",
   "language": "python",
   "name": "python3"
  },
  "language_info": {
   "codemirror_mode": {
    "name": "ipython",
    "version": 3
   },
   "file_extension": ".py",
   "mimetype": "text/x-python",
   "name": "python",
   "nbconvert_exporter": "python",
   "pygments_lexer": "ipython3",
   "version": "3.8.3"
  }
 },
 "nbformat": 4,
 "nbformat_minor": 4
}
